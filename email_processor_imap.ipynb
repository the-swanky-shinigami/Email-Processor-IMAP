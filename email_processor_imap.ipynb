{
 "cells": [
  {
   "cell_type": "code",
   "execution_count": 19,
   "metadata": {},
   "outputs": [],
   "source": [
    "import pandas as pd\n",
    "import logging\n",
    "import sqlite3\n",
    "import time\n",
    "import email\n",
    "from email.header import decode_header\n",
    "import imaplib"
   ]
  },
  {
   "cell_type": "code",
   "execution_count": 20,
   "metadata": {},
   "outputs": [],
   "source": [
    "# Configure logging\n",
    "logging.basicConfig(\n",
    "    level=logging.INFO,\n",
    "    format=\"%(asctime)s - %(levelname)s - %(message)s\",\n",
    "    handlers=[\n",
    "        logging.FileHandler(\"email_processor.log\"),\n",
    "    ]\n",
    ")"
   ]
  },
  {
   "cell_type": "code",
   "execution_count": 21,
   "metadata": {},
   "outputs": [],
   "source": [
    "def retry(func, retries=3, delay=5, *args, **kwargs):\n",
    "    \"\"\"Retries a function upon failure.\"\"\"\n",
    "    for attempt in range(retries):\n",
    "        try:\n",
    "            return func(*args, **kwargs)\n",
    "        except Exception as e:\n",
    "            logging.error(f\"Attempt {attempt + 1} failed: {e}\")\n",
    "            time.sleep(delay)\n",
    "    raise Exception(\"All retries failed\")"
   ]
  },
  {
   "cell_type": "code",
   "execution_count": 22,
   "metadata": {},
   "outputs": [],
   "source": [
    "# Setup SQLite database\n",
    "def setup_database():\n",
    "    conn = sqlite3.connect(\"emails.db\")\n",
    "    cursor = conn.cursor()\n",
    "    cursor.execute(\n",
    "        \"\"\"\n",
    "        CREATE TABLE IF NOT EXISTS emails (\n",
    "            id INTEGER PRIMARY KEY AUTOINCREMENT,\n",
    "            sender TEXT,\n",
    "            subject TEXT,\n",
    "            timestamp TEXT\n",
    "        )\n",
    "        \"\"\"\n",
    "    )\n",
    "    conn.commit()\n",
    "    conn.close()"
   ]
  },
  {
   "cell_type": "code",
   "execution_count": 23,
   "metadata": {},
   "outputs": [],
   "source": [
    "# Connect to email\n",
    "def connect_to_email(username, password):\n",
    "    try:\n",
    "        mail = imaplib.IMAP4_SSL(\"imap.gmail.com\")\n",
    "        mail.login(username, password)\n",
    "        return mail\n",
    "    except Exception as e:\n",
    "        logging.error(f\"Error connecting to email: {e}\")\n",
    "        raise"
   ]
  },
  {
   "cell_type": "code",
   "execution_count": 24,
   "metadata": {},
   "outputs": [],
   "source": [
    "# Process emails\n",
    "def process_emails(mail):\n",
    "    try:\n",
    "        mail.select(\"inbox\")\n",
    "        status, messages = mail.search(None, \"UNSEEN\")\n",
    "        if status != \"OK\":\n",
    "            logging.warning(f\"Error searching for emails: {status}\")\n",
    "            return\n",
    "        email_ids = messages[0].split()\n",
    "        logging.info(f\"Found {len(email_ids)} unread emails\")\n",
    "\n",
    "        conn = sqlite3.connect(\"emails.db\")\n",
    "        cursor = conn.cursor()\n",
    "\n",
    "        for email_id in email_ids:\n",
    "            res, msg = mail.fetch(email_id, \"(RFC822)\")\n",
    "            for response in msg:\n",
    "                if isinstance(response, tuple):\n",
    "                    msg = email.message_from_bytes(response[1])\n",
    "\n",
    "                    sender = msg.get(\"From\", \"Unknown\")\n",
    "                    subject = msg.get(\"Subject\", \"No Subject\")\n",
    "                    timestamp = time.strftime(\"%Y-%m-%d %H:%M:%S\", time.gmtime())\n",
    "\n",
    "                    try:\n",
    "                        subject, encoding = decode_header(subject)[0]\n",
    "                        if isinstance(subject, bytes):\n",
    "                            subject = subject.decode(encoding or \"utf-8\")\n",
    "                    except Exception:\n",
    "                        pass\n",
    "\n",
    "                    cursor.execute(\n",
    "                        \"INSERT INTO emails (sender, subject, timestamp) VALUES (?, ?, ?)\",\n",
    "                        (sender, subject, timestamp),\n",
    "                    )\n",
    "                    logging.info(f\"Processed email: Sender={sender}, Subject={subject}, Timestamp={timestamp}\")\n",
    "                    mail.store(email_id, '+FLAGS', '\\\\Seen')\n",
    "                    #logging.getLogger().handlers[0].flush()  # Explicit flush\n",
    "\n",
    "        conn.commit()\n",
    "        conn.close()\n",
    "        logging.info(\"Emails processed successfully.\")\n",
    "    except Exception as e:\n",
    "        logging.error(f\"Error processing emails: {e}\")"
   ]
  },
  {
   "cell_type": "code",
   "execution_count": 25,
   "metadata": {},
   "outputs": [],
   "source": [
    "def main():\n",
    "    setup_database()\n",
    "\n",
    "    # credentials\n",
    "    username = \"your_email_here\" # Use a Gmail account\n",
    "    password = \"your_password_here\" # use your password or generate an App password\n",
    "\n",
    "    try:\n",
    "        # Retry connecting to the email server\n",
    "        mail = retry(connect_to_email, retries=3, delay=5, username=username, password=password)\n",
    "\n",
    "        # Retry processing emails\n",
    "        retry(process_emails, retries=3, delay=5, mail=mail)\n",
    "\n",
    "        mail.logout()\n",
    "    except Exception as e:\n",
    "        logging.error(f\"Error in main: {e}\")"
   ]
  },
  {
   "cell_type": "code",
   "execution_count": 26,
   "metadata": {},
   "outputs": [],
   "source": [
    "if __name__ == \"__main__\":\n",
    "    main()"
   ]
  },
  {
   "cell_type": "code",
   "execution_count": 27,
   "metadata": {},
   "outputs": [
    {
     "data": {
      "text/html": [
       "<div>\n",
       "<style scoped>\n",
       "    .dataframe tbody tr th:only-of-type {\n",
       "        vertical-align: middle;\n",
       "    }\n",
       "\n",
       "    .dataframe tbody tr th {\n",
       "        vertical-align: top;\n",
       "    }\n",
       "\n",
       "    .dataframe thead th {\n",
       "        text-align: right;\n",
       "    }\n",
       "</style>\n",
       "<table border=\"1\" class=\"dataframe\">\n",
       "  <thead>\n",
       "    <tr style=\"text-align: right;\">\n",
       "      <th></th>\n",
       "      <th>id</th>\n",
       "      <th>sender</th>\n",
       "      <th>subject</th>\n",
       "      <th>timestamp</th>\n",
       "    </tr>\n",
       "  </thead>\n",
       "  <tbody>\n",
       "    <tr>\n",
       "      <th>0</th>\n",
       "      <td>1</td>\n",
       "      <td>Saumya Dwivedi &lt;saumyadwivedi703@gmail.com&gt;</td>\n",
       "      <td>Who Let the</td>\n",
       "      <td>2024-12-13 05:50:34</td>\n",
       "    </tr>\n",
       "    <tr>\n",
       "      <th>1</th>\n",
       "      <td>2</td>\n",
       "      <td>Saumya Dwivedi &lt;saumyadwivedi703@gmail.com&gt;</td>\n",
       "      <td>Dogs out</td>\n",
       "      <td>2024-12-13 05:50:35</td>\n",
       "    </tr>\n",
       "    <tr>\n",
       "      <th>2</th>\n",
       "      <td>3</td>\n",
       "      <td>Saumya Dwivedi &lt;saumyadwivedi703@gmail.com&gt;</td>\n",
       "      <td>Never gonna</td>\n",
       "      <td>2024-12-13 06:07:41</td>\n",
       "    </tr>\n",
       "    <tr>\n",
       "      <th>3</th>\n",
       "      <td>4</td>\n",
       "      <td>Saumya Dwivedi &lt;saumyadwivedi703@gmail.com&gt;</td>\n",
       "      <td>Give you up</td>\n",
       "      <td>2024-12-13 06:07:42</td>\n",
       "    </tr>\n",
       "  </tbody>\n",
       "</table>\n",
       "</div>"
      ],
      "text/plain": [
       "   id                                       sender      subject  \\\n",
       "0   1  Saumya Dwivedi <saumyadwivedi703@gmail.com>  Who Let the   \n",
       "1   2  Saumya Dwivedi <saumyadwivedi703@gmail.com>     Dogs out   \n",
       "2   3  Saumya Dwivedi <saumyadwivedi703@gmail.com>  Never gonna   \n",
       "3   4  Saumya Dwivedi <saumyadwivedi703@gmail.com>  Give you up   \n",
       "\n",
       "             timestamp  \n",
       "0  2024-12-13 05:50:34  \n",
       "1  2024-12-13 05:50:35  \n",
       "2  2024-12-13 06:07:41  \n",
       "3  2024-12-13 06:07:42  "
      ]
     },
     "execution_count": 27,
     "metadata": {},
     "output_type": "execute_result"
    }
   ],
   "source": [
    "# Display SQLite data\n",
    "import pandas as pd\n",
    "conn = sqlite3.connect(\"emails.db\")\n",
    "df = pd.read_sql_query(\"SELECT * FROM emails\", conn)\n",
    "conn.close()\n",
    "df"
   ]
  },
  {
   "cell_type": "code",
   "execution_count": 28,
   "metadata": {},
   "outputs": [
    {
     "name": "stdout",
     "output_type": "stream",
     "text": [
      "2024-12-13 10:53:08,461 - INFO - Found 0 unread emails\n",
      "2024-12-13 10:53:08,464 - INFO - Emails processed successfully.\n",
      "2024-12-13 11:20:34,074 - INFO - Found 2 unread emails\n",
      "2024-12-13 11:20:34,863 - INFO - Processed email: Sender=Saumya Dwivedi <saumyadwivedi703@gmail.com>, Subject=Who Let the, Timestamp=2024-12-13 05:50:34\n",
      "2024-12-13 11:20:35,303 - INFO - Processed email: Sender=Saumya Dwivedi <saumyadwivedi703@gmail.com>, Subject=Dogs out, Timestamp=2024-12-13 05:50:35\n",
      "2024-12-13 11:20:35,403 - INFO - Emails processed successfully.\n",
      "2024-12-13 11:37:40,602 - INFO - Found 2 unread emails\n",
      "2024-12-13 11:37:41,150 - INFO - Processed email: Sender=Saumya Dwivedi <saumyadwivedi703@gmail.com>, Subject=Never gonna, Timestamp=2024-12-13 06:07:41\n",
      "2024-12-13 11:37:42,317 - INFO - Processed email: Sender=Saumya Dwivedi <saumyadwivedi703@gmail.com>, Subject=Give you up, Timestamp=2024-12-13 06:07:42\n",
      "2024-12-13 11:37:42,925 - INFO - Emails processed successfully.\n",
      "\n"
     ]
    }
   ],
   "source": [
    "# Display logs\n",
    "with open(\"email_processor.log\", \"r\") as log_file:\n",
    "    logs = log_file.read()\n",
    "    print(logs)"
   ]
  }
 ],
 "metadata": {
  "kernelspec": {
   "display_name": "Python 3",
   "language": "python",
   "name": "python3"
  },
  "language_info": {
   "codemirror_mode": {
    "name": "ipython",
    "version": 3
   },
   "file_extension": ".py",
   "mimetype": "text/x-python",
   "name": "python",
   "nbconvert_exporter": "python",
   "pygments_lexer": "ipython3",
   "version": "3.12.3"
  }
 },
 "nbformat": 4,
 "nbformat_minor": 2
}
